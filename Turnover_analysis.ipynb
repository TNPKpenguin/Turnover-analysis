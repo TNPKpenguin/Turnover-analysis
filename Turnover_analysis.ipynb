{
  "nbformat": 4,
  "nbformat_minor": 0,
  "metadata": {
    "colab": {
      "provenance": []
    },
    "kernelspec": {
      "name": "python3",
      "display_name": "Python 3"
    },
    "language_info": {
      "name": "python"
    },
    "accelerator": "GPU",
    "gpuClass": "standard"
  },
  "cells": [
    {
      "cell_type": "code",
      "execution_count": null,
      "metadata": {
        "colab": {
          "base_uri": "https://localhost:8080/"
        },
        "id": "OsPWy08FytNd",
        "outputId": "caadd5f3-b2bb-48f7-a534-4f4925c7b00c"
      },
      "outputs": [
        {
          "output_type": "stream",
          "name": "stdout",
          "text": [
            "Mounted at /content/drive\n"
          ]
        }
      ],
      "source": [
        "import pandas as pd\n",
        "import numpy as np\n",
        "import matplotlib.pyplot as plt\n",
        "import seaborn as sns\n",
        "from google.colab import drive\n",
        "from scipy import stats as st\n",
        "import matplotlib as mpl\n",
        "drive.mount('/content/drive')"
      ]
    },
    {
      "cell_type": "code",
      "source": [
        "path_data = \"/content/drive/MyDrive/หลักสูตรการวิเคราะห์ผู้่บริโภค/data_final_project.csv\"   #path file\n",
        "data = pd.read_csv(path_data).drop([\"CODE\", \"ค่าแรง\", \"วันที่ลาออก\", \"Year\", \"Month\", \"Day\", \"Quarter\", \"เหตุผล\", \"อายุงาน(วัน)\"], axis=1)   #อ่านไฟล์ข้อมูล csv\n",
        "\n",
        "print(\"shape of data :\", data.shape)   #ดูขนาดของชุดข้อมูล\n",
        "print(\"---sum null---\\n\", data.isnull().sum())   #ดูว่ามีข้อมูลที่เป็น null มั้ย"
      ],
      "metadata": {
        "colab": {
          "base_uri": "https://localhost:8080/"
        },
        "id": "Ti_aVS3Iy9Q8",
        "outputId": "6e4f5cee-6e40-4d9e-c83a-c6c073510b2b"
      },
      "execution_count": null,
      "outputs": [
        {
          "output_type": "stream",
          "name": "stdout",
          "text": [
            "shape of data : (240, 9)\n",
            "---sum null---\n",
            " ตำแหน่ง/แผนก      0\n",
            "เพศ               0\n",
            "วุฒิ              0\n",
            "ศาสนา             0\n",
            "สัญชาติ           0\n",
            "อายุ              0\n",
            "อายุงาน(เดือน)    0\n",
            "อายุงาน(ปี)       0\n",
            "สถานะ (groups)    0\n",
            "dtype: int64\n"
          ]
        }
      ]
    },
    {
      "cell_type": "code",
      "source": [
        "print(data.columns)   #ดูว่ามีคอลัมน์ชื่ออะไรบ้าง\n",
        "print(\"\\n\\n---describe data---\\n\", data.describe())   #ดูค่าต่างๆทางสถิติของตัวแปรที่เป็นเชิงปริมาณ"
      ],
      "metadata": {
        "id": "ofLNYjyBz0I1",
        "colab": {
          "base_uri": "https://localhost:8080/"
        },
        "outputId": "0277301f-5c77-4915-c79f-7a7f5867b249"
      },
      "execution_count": null,
      "outputs": [
        {
          "output_type": "stream",
          "name": "stdout",
          "text": [
            "Index(['ตำแหน่ง/แผนก', 'เพศ', 'วุฒิ', 'ศาสนา', 'สัญชาติ', 'อายุ',\n",
            "       'อายุงาน(เดือน)', 'อายุงาน(ปี)', 'สถานะ (groups)'],\n",
            "      dtype='object')\n",
            "\n",
            "\n",
            "---describe data---\n",
            "              อายุ  อายุงาน(เดือน)  อายุงาน(ปี)\n",
            "count  240.000000      240.000000    240.00000\n",
            "mean    33.400000        4.583333      2.81250\n",
            "std      9.749498        3.415650      4.00134\n",
            "min     17.000000        0.000000      0.00000\n",
            "25%     26.000000        2.000000      0.00000\n",
            "50%     31.000000        4.000000      1.00000\n",
            "75%     40.250000        7.000000      4.00000\n",
            "max     65.000000       11.000000     19.00000\n"
          ]
        }
      ]
    },
    {
      "cell_type": "markdown",
      "source": [
        "#test"
      ],
      "metadata": {
        "id": "yGdnResO3f4e"
      }
    },
    {
      "cell_type": "code",
      "source": [
        "!wget -q https://github.com/Phonbopit/sarabun-webfont/raw/master/fonts/thsarabunnew-webfont.ttf   #ติดตั้ง font ไทย\n",
        "mpl.font_manager.fontManager.addfont('thsarabunnew-webfont.ttf')\n",
        "mpl.rc('font', family='TH Sarabun New', size=20)"
      ],
      "metadata": {
        "id": "I2fT-p2D7O-7"
      },
      "execution_count": null,
      "outputs": []
    },
    {
      "cell_type": "code",
      "source": [
        "sns.pairplot(data, hue='สถานะ (groups)')   #พลอตความสัมพันธ์ของแต่ละตัวแปร"
      ],
      "metadata": {
        "id": "A8G5V4rm3fCu",
        "colab": {
          "base_uri": "https://localhost:8080/",
          "height": 558
        },
        "outputId": "e6d86ccd-e394-47e7-dc9e-925befaecbd4"
      },
      "execution_count": null,
      "outputs": [
        {
          "output_type": "execute_result",
          "data": {
            "text/plain": [
              "<seaborn.axisgrid.PairGrid at 0x7fb2228bac40>"
            ]
          },
          "metadata": {},
          "execution_count": 8
        },
        {
          "output_type": "display_data",
          "data": {
            "text/plain": [
              "<Figure size 691.875x540 with 12 Axes>"
            ],
            "image/png": "[encoded data removed]"
          },
          "metadata": {
            "needs_background": "light"
          }
        }
      ]
    },
    {
      "cell_type": "markdown",
      "source": [
        "#Split data"
      ],
      "metadata": {
        "id": "YMBU6Q_J8BG5"
      }
    },
    {
      "cell_type": "code",
      "source": [
        "from sklearn.model_selection import train_test_split"
      ],
      "metadata": {
        "id": "vqjV13-lSIUB"
      },
      "execution_count": null,
      "outputs": []
    },
    {
      "cell_type": "code",
      "source": [
        "data = pd.get_dummies(data, columns=[\"ตำแหน่ง/แผนก\", \"เพศ\", \"วุฒิ\", \"ศาสนา\", \"สัญชาติ\", 'สถานะ (groups)'], drop_first=True)   #ทำตัวแปรเชิงคุณภาพต่างๆ ให้เป็นเชิงคุณภาพ โดยสร้างเป็นตัวแปรดัมมี่"
      ],
      "metadata": {
        "id": "YszswnlZ8DBv"
      },
      "execution_count": null,
      "outputs": []
    },
    {
      "cell_type": "code",
      "source": [
        "data"
      ],
      "metadata": {
        "id": "0ouZVw89_jdJ",
        "colab": {
          "base_uri": "https://localhost:8080/",
          "height": 522
        },
        "outputId": "3e2cf3c6-69ec-474c-9b16-541f0b2a8d39"
      },
      "execution_count": null,
      "outputs": [
        {
          "output_type": "execute_result",
          "data": {
            "text/plain": [
              "     อายุ  อายุงาน(เดือน)  อายุงาน(ปี)  ตำแหน่ง/แผนก_milling  \\\n",
              "0      45               5           16                     0   \n",
              "1      44               5           16                     0   \n",
              "2      45               5           16                     0   \n",
              "3      38              11           18                     0   \n",
              "4      43               8           11                     0   \n",
              "..    ...             ...          ...                   ...   \n",
              "235    27               5            0                     1   \n",
              "236    43               4            0                     0   \n",
              "237    17               2            0                     1   \n",
              "238    25               1            0                     1   \n",
              "239    26               1            0                     1   \n",
              "\n",
              "     ตำแหน่ง/แผนก_กลึง  ตำแหน่ง/แผนก_การตลาด  ตำแหน่ง/แผนก_ขับรถส่งของ  \\\n",
              "0                    0                     0                         0   \n",
              "1                    0                     1                         0   \n",
              "2                    0                     0                         0   \n",
              "3                    0                     0                         0   \n",
              "4                    0                     1                         0   \n",
              "..                 ...                   ...                       ...   \n",
              "235                  0                     0                         0   \n",
              "236                  0                     0                         0   \n",
              "237                  0                     0                         0   \n",
              "238                  0                     0                         0   \n",
              "239                  0                     0                         0   \n",
              "\n",
              "     ตำแหน่ง/แผนก_คิวซี  ตำแหน่ง/แผนก_ตกแต่ง  ตำแหน่ง/แผนก_สโตร์  ...  \\\n",
              "0                     0                    0                   0  ...   \n",
              "1                     0                    0                   0  ...   \n",
              "2                     0                    0                   0  ...   \n",
              "3                     0                    0                   0  ...   \n",
              "4                     0                    0                   0  ...   \n",
              "..                  ...                  ...                 ...  ...   \n",
              "235                   0                    0                   0  ...   \n",
              "236                   0                    0                   0  ...   \n",
              "237                   0                    0                   0  ...   \n",
              "238                   0                    0                   0  ...   \n",
              "239                   0                    0                   0  ...   \n",
              "\n",
              "     วุฒิ_ป.ตรี  วุฒิ_ปวช  วุฒิ_ปวช.  วุฒิ_ปวส.  วุฒิ_ม.3  วุฒิ_ม.6  \\\n",
              "0             1         0          0          0         0         0   \n",
              "1             0         0          0          0         1         0   \n",
              "2             1         0          0          0         0         0   \n",
              "3             0         0          0          0         1         0   \n",
              "4             0         0          1          0         0         0   \n",
              "..          ...       ...        ...        ...       ...       ...   \n",
              "235           0         0          0          1         0         0   \n",
              "236           0         0          1          0         0         0   \n",
              "237           0         0          0          0         0         0   \n",
              "238           0         0          1          0         0         0   \n",
              "239           0         0          0          0         0         0   \n",
              "\n",
              "     สัญชาติ_พม่า  สัญชาติ_ลาว  สัญชาติ_ไทย  สถานะ (groups)_ลาออก  \n",
              "0               0            0            1                     0  \n",
              "1               0            0            1                     1  \n",
              "2               0            0            1                     0  \n",
              "3               0            0            1                     0  \n",
              "4               0            0            1                     0  \n",
              "..            ...          ...          ...                   ...  \n",
              "235             0            0            1                     0  \n",
              "236             0            0            1                     0  \n",
              "237             0            0            1                     0  \n",
              "238             0            0            1                     0  \n",
              "239             0            0            1                     0  \n",
              "\n",
              "[240 rows x 26 columns]"
            ],
            "text/html": [
              "\n",
              "  <div id=\"df-32456b73-d3e3-4fbc-9ec6-6c046f640bc6\">\n",
              "    <div class=\"colab-df-container\">\n",
              "      <div>\n",
              "<style scoped>\n",
              "    .dataframe tbody tr th:only-of-type {\n",
              "        vertical-align: middle;\n",
              "    }\n",
              "\n",
              "    .dataframe tbody tr th {\n",
              "        vertical-align: top;\n",
              "    }\n",
              "\n",
              "    .dataframe thead th {\n",
              "        text-align: right;\n",
              "    }\n",
              "</style>\n",
              "<table border=\"1\" class=\"dataframe\">\n",
              "  <thead>\n",
              "    <tr style=\"text-align: right;\">\n",
              "      <th></th>\n",
              "      <th>อายุ</th>\n",
              "      <th>อายุงาน(เดือน)</th>\n",
              "      <th>อายุงาน(ปี)</th>\n",
              "      <th>ตำแหน่ง/แผนก_milling</th>\n",
              "      <th>ตำแหน่ง/แผนก_กลึง</th>\n",
              "      <th>ตำแหน่ง/แผนก_การตลาด</th>\n",
              "      <th>ตำแหน่ง/แผนก_ขับรถส่งของ</th>\n",
              "      <th>ตำแหน่ง/แผนก_คิวซี</th>\n",
              "      <th>ตำแหน่ง/แผนก_ตกแต่ง</th>\n",
              "      <th>ตำแหน่ง/แผนก_สโตร์</th>\n",
              "      <th>...</th>\n",
              "      <th>วุฒิ_ป.ตรี</th>\n",
              "      <th>วุฒิ_ปวช</th>\n",
              "      <th>วุฒิ_ปวช.</th>\n",
              "      <th>วุฒิ_ปวส.</th>\n",
              "      <th>วุฒิ_ม.3</th>\n",
              "      <th>วุฒิ_ม.6</th>\n",
              "      <th>สัญชาติ_พม่า</th>\n",
              "      <th>สัญชาติ_ลาว</th>\n",
              "      <th>สัญชาติ_ไทย</th>\n",
              "      <th>สถานะ (groups)_ลาออก</th>\n",
              "    </tr>\n",
              "  </thead>\n",
              "  <tbody>\n",
              "    <tr>\n",
              "      <th>0</th>\n",
              "      <td>45</td>\n",
              "      <td>5</td>\n",
              "      <td>16</td>\n",
              "      <td>0</td>\n",
              "      <td>0</td>\n",
              "      <td>0</td>\n",
              "      <td>0</td>\n",
              "      <td>0</td>\n",
              "      <td>0</td>\n",
              "      <td>0</td>\n",
              "      <td>...</td>\n",
              "      <td>1</td>\n",
              "      <td>0</td>\n",
              "      <td>0</td>\n",
              "      <td>0</td>\n",
              "      <td>0</td>\n",
              "      <td>0</td>\n",
              "      <td>0</td>\n",
              "      <td>0</td>\n",
              "      <td>1</td>\n",
              "      <td>0</td>\n",
              "    </tr>\n",
              "    <tr>\n",
              "      <th>1</th>\n",
              "      <td>44</td>\n",
              "      <td>5</td>\n",
              "      <td>16</td>\n",
              "      <td>0</td>\n",
              "      <td>0</td>\n",
              "      <td>1</td>\n",
              "      <td>0</td>\n",
              "      <td>0</td>\n",
              "      <td>0</td>\n",
              "      <td>0</td>\n",
              "      <td>...</td>\n",
              "      <td>0</td>\n",
              "      <td>0</td>\n",
              "      <td>0</td>\n",
              "      <td>0</td>\n",
              "      <td>1</td>\n",
              "      <td>0</td>\n",
              "      <td>0</td>\n",
              "      <td>0</td>\n",
              "      <td>1</td>\n",
              "      <td>1</td>\n",
              "    </tr>\n",
              "    <tr>\n",
              "      <th>2</th>\n",
              "      <td>45</td>\n",
              "      <td>5</td>\n",
              "      <td>16</td>\n",
              "      <td>0</td>\n",
              "      <td>0</td>\n",
              "      <td>0</td>\n",
              "      <td>0</td>\n",
              "      <td>0</td>\n",
              "      <td>0</td>\n",
              "      <td>0</td>\n",
              "      <td>...</td>\n",
              "      <td>1</td>\n",
              "      <td>0</td>\n",
              "      <td>0</td>\n",
              "      <td>0</td>\n",
              "      <td>0</td>\n",
              "      <td>0</td>\n",
              "      <td>0</td>\n",
              "      <td>0</td>\n",
              "      <td>1</td>\n",
              "      <td>0</td>\n",
              "    </tr>\n",
              "    <tr>\n",
              "      <th>3</th>\n",
              "      <td>38</td>\n",
              "      <td>11</td>\n",
              "      <td>18</td>\n",
              "      <td>0</td>\n",
              "      <td>0</td>\n",
              "      <td>0</td>\n",
              "      <td>0</td>\n",
              "      <td>0</td>\n",
              "      <td>0</td>\n",
              "      <td>0</td>\n",
              "      <td>...</td>\n",
              "      <td>0</td>\n",
              "      <td>0</td>\n",
              "      <td>0</td>\n",
              "      <td>0</td>\n",
              "      <td>1</td>\n",
              "      <td>0</td>\n",
              "      <td>0</td>\n",
              "      <td>0</td>\n",
              "      <td>1</td>\n",
              "      <td>0</td>\n",
              "    </tr>\n",
              "    <tr>\n",
              "      <th>4</th>\n",
              "      <td>43</td>\n",
              "      <td>8</td>\n",
              "      <td>11</td>\n",
              "      <td>0</td>\n",
              "      <td>0</td>\n",
              "      <td>1</td>\n",
              "      <td>0</td>\n",
              "      <td>0</td>\n",
              "      <td>0</td>\n",
              "      <td>0</td>\n",
              "      <td>...</td>\n",
              "      <td>0</td>\n",
              "      <td>0</td>\n",
              "      <td>1</td>\n",
              "      <td>0</td>\n",
              "      <td>0</td>\n",
              "      <td>0</td>\n",
              "      <td>0</td>\n",
              "      <td>0</td>\n",
              "      <td>1</td>\n",
              "      <td>0</td>\n",
              "    </tr>\n",
              "    <tr>\n",
              "      <th>...</th>\n",
              "      <td>...</td>\n",
              "      <td>...</td>\n",
              "      <td>...</td>\n",
              "      <td>...</td>\n",
              "      <td>...</td>\n",
              "      <td>...</td>\n",
              "      <td>...</td>\n",
              "      <td>...</td>\n",
              "      <td>...</td>\n",
              "      <td>...</td>\n",
              "      <td>...</td>\n",
              "      <td>...</td>\n",
              "      <td>...</td>\n",
              "      <td>...</td>\n",
              "      <td>...</td>\n",
              "      <td>...</td>\n",
              "      <td>...</td>\n",
              "      <td>...</td>\n",
              "      <td>...</td>\n",
              "      <td>...</td>\n",
              "      <td>...</td>\n",
              "    </tr>\n",
              "    <tr>\n",
              "      <th>235</th>\n",
              "      <td>27</td>\n",
              "      <td>5</td>\n",
              "      <td>0</td>\n",
              "      <td>1</td>\n",
              "      <td>0</td>\n",
              "      <td>0</td>\n",
              "      <td>0</td>\n",
              "      <td>0</td>\n",
              "      <td>0</td>\n",
              "      <td>0</td>\n",
              "      <td>...</td>\n",
              "      <td>0</td>\n",
              "      <td>0</td>\n",
              "      <td>0</td>\n",
              "      <td>1</td>\n",
              "      <td>0</td>\n",
              "      <td>0</td>\n",
              "      <td>0</td>\n",
              "      <td>0</td>\n",
              "      <td>1</td>\n",
              "      <td>0</td>\n",
              "    </tr>\n",
              "    <tr>\n",
              "      <th>236</th>\n",
              "      <td>43</td>\n",
              "      <td>4</td>\n",
              "      <td>0</td>\n",
              "      <td>0</td>\n",
              "      <td>0</td>\n",
              "      <td>0</td>\n",
              "      <td>0</td>\n",
              "      <td>0</td>\n",
              "      <td>0</td>\n",
              "      <td>0</td>\n",
              "      <td>...</td>\n",
              "      <td>0</td>\n",
              "      <td>0</td>\n",
              "      <td>1</td>\n",
              "      <td>0</td>\n",
              "      <td>0</td>\n",
              "      <td>0</td>\n",
              "      <td>0</td>\n",
              "      <td>0</td>\n",
              "      <td>1</td>\n",
              "      <td>0</td>\n",
              "    </tr>\n",
              "    <tr>\n",
              "      <th>237</th>\n",
              "      <td>17</td>\n",
              "      <td>2</td>\n",
              "      <td>0</td>\n",
              "      <td>1</td>\n",
              "      <td>0</td>\n",
              "      <td>0</td>\n",
              "      <td>0</td>\n",
              "      <td>0</td>\n",
              "      <td>0</td>\n",
              "      <td>0</td>\n",
              "      <td>...</td>\n",
              "      <td>0</td>\n",
              "      <td>0</td>\n",
              "      <td>0</td>\n",
              "      <td>0</td>\n",
              "      <td>0</td>\n",
              "      <td>0</td>\n",
              "      <td>0</td>\n",
              "      <td>0</td>\n",
              "      <td>1</td>\n",
              "      <td>0</td>\n",
              "    </tr>\n",
              "    <tr>\n",
              "      <th>238</th>\n",
              "      <td>25</td>\n",
              "      <td>1</td>\n",
              "      <td>0</td>\n",
              "      <td>1</td>\n",
              "      <td>0</td>\n",
              "      <td>0</td>\n",
              "      <td>0</td>\n",
              "      <td>0</td>\n",
              "      <td>0</td>\n",
              "      <td>0</td>\n",
              "      <td>...</td>\n",
              "      <td>0</td>\n",
              "      <td>0</td>\n",
              "      <td>1</td>\n",
              "      <td>0</td>\n",
              "      <td>0</td>\n",
              "      <td>0</td>\n",
              "      <td>0</td>\n",
              "      <td>0</td>\n",
              "      <td>1</td>\n",
              "      <td>0</td>\n",
              "    </tr>\n",
              "    <tr>\n",
              "      <th>239</th>\n",
              "      <td>26</td>\n",
              "      <td>1</td>\n",
              "      <td>0</td>\n",
              "      <td>1</td>\n",
              "      <td>0</td>\n",
              "      <td>0</td>\n",
              "      <td>0</td>\n",
              "      <td>0</td>\n",
              "      <td>0</td>\n",
              "      <td>0</td>\n",
              "      <td>...</td>\n",
              "      <td>0</td>\n",
              "      <td>0</td>\n",
              "      <td>0</td>\n",
              "      <td>0</td>\n",
              "      <td>0</td>\n",
              "      <td>0</td>\n",
              "      <td>0</td>\n",
              "      <td>0</td>\n",
              "      <td>1</td>\n",
              "      <td>0</td>\n",
              "    </tr>\n",
              "  </tbody>\n",
              "</table>\n",
              "<p>240 rows × 26 columns</p>\n",
              "</div>\n",
              "      <button class=\"colab-df-convert\" onclick=\"convertToInteractive('df-32456b73-d3e3-4fbc-9ec6-6c046f640bc6')\"\n",
              "              title=\"Convert this dataframe to an interactive table.\"\n",
              "              style=\"display:none;\">\n",
              "        \n",
              "  <svg xmlns=\"http://www.w3.org/2000/svg\" height=\"24px\"viewBox=\"0 0 24 24\"\n",
              "       width=\"24px\">\n",
              "    <path d=\"M0 0h24v24H0V0z\" fill=\"none\"/>\n",
              "    <path d=\"M18.56 5.44l.94 2.06.94-2.06 2.06-.94-2.06-.94-.94-2.06-.94 2.06-2.06.94zm-11 1L8.5 8.5l.94-2.06 2.06-.94-2.06-.94L8.5 2.5l-.94 2.06-2.06.94zm10 10l.94 2.06.94-2.06 2.06-.94-2.06-.94-.94-2.06-.94 2.06-2.06.94z\"/><path d=\"M17.41 7.96l-1.37-1.37c-.4-.4-.92-.59-1.43-.59-.52 0-1.04.2-1.43.59L10.3 9.45l-7.72 7.72c-.78.78-.78 2.05 0 2.83L4 21.41c.39.39.9.59 1.41.59.51 0 1.02-.2 1.41-.59l7.78-7.78 2.81-2.81c.8-.78.8-2.07 0-2.86zM5.41 20L4 18.59l7.72-7.72 1.47 1.35L5.41 20z\"/>\n",
              "  </svg>\n",
              "      </button>\n",
              "      \n",
              "  <style>\n",
              "    .colab-df-container {\n",
              "      display:flex;\n",
              "      flex-wrap:wrap;\n",
              "      gap: 12px;\n",
              "    }\n",
              "\n",
              "    .colab-df-convert {\n",
              "      background-color: #E8F0FE;\n",
              "      border: none;\n",
              "      border-radius: 50%;\n",
              "      cursor: pointer;\n",
              "      display: none;\n",
              "      fill: #1967D2;\n",
              "      height: 32px;\n",
              "      padding: 0 0 0 0;\n",
              "      width: 32px;\n",
              "    }\n",
              "\n",
              "    .colab-df-convert:hover {\n",
              "      background-color: #E2EBFA;\n",
              "      box-shadow: 0px 1px 2px rgba(60, 64, 67, 0.3), 0px 1px 3px 1px rgba(60, 64, 67, 0.15);\n",
              "      fill: #174EA6;\n",
              "    }\n",
              "\n",
              "    [theme=dark] .colab-df-convert {\n",
              "      background-color: #3B4455;\n",
              "      fill: #D2E3FC;\n",
              "    }\n",
              "\n",
              "    [theme=dark] .colab-df-convert:hover {\n",
              "      background-color: #434B5C;\n",
              "      box-shadow: 0px 1px 3px 1px rgba(0, 0, 0, 0.15);\n",
              "      filter: drop-shadow(0px 1px 2px rgba(0, 0, 0, 0.3));\n",
              "      fill: #FFFFFF;\n",
              "    }\n",
              "  </style>\n",
              "\n",
              "      <script>\n",
              "        const buttonEl =\n",
              "          document.querySelector('#df-32456b73-d3e3-4fbc-9ec6-6c046f640bc6 button.colab-df-convert');\n",
              "        buttonEl.style.display =\n",
              "          google.colab.kernel.accessAllowed ? 'block' : 'none';\n",
              "\n",
              "        async function convertToInteractive(key) {\n",
              "          const element = document.querySelector('#df-32456b73-d3e3-4fbc-9ec6-6c046f640bc6');\n",
              "          const dataTable =\n",
              "            await google.colab.kernel.invokeFunction('convertToInteractive',\n",
              "                                                     [key], {});\n",
              "          if (!dataTable) return;\n",
              "\n",
              "          const docLinkHtml = 'Like what you see? Visit the ' +\n",
              "            '<a target=\"_blank\" href=https://colab.research.google.com/notebooks/data_table.ipynb>data table notebook</a>'\n",
              "            + ' to learn more about interactive tables.';\n",
              "          element.innerHTML = '';\n",
              "          dataTable['output_type'] = 'display_data';\n",
              "          await google.colab.output.renderOutput(dataTable, element);\n",
              "          const docLink = document.createElement('div');\n",
              "          docLink.innerHTML = docLinkHtml;\n",
              "          element.appendChild(docLink);\n",
              "        }\n",
              "      </script>\n",
              "    </div>\n",
              "  </div>\n",
              "  "
            ]
          },
          "metadata": {},
          "execution_count": 11
        }
      ]
    },
    {
      "cell_type": "code",
      "source": [
        "X = data.drop(['สถานะ (groups)_ลาออก'], axis=1)   #สร้าง feature ที่จะเอาไป train โดยเอาทุกคอลัมน์ของ data ยกเว้นคอลัมน์ สถานะ\n",
        "y = data['สถานะ (groups)_ลาออก']   #เอา สถานะ เป็น target"
      ],
      "metadata": {
        "id": "mLYQdVerR0yC"
      },
      "execution_count": null,
      "outputs": []
    },
    {
      "cell_type": "code",
      "source": [
        "X_train, X_test, y_train, y_test = train_test_split(X, y, test_size=0.2, random_state=16)   #เเบ่ง train-test"
      ],
      "metadata": {
        "id": "ONrbvf_hSNch"
      },
      "execution_count": null,
      "outputs": []
    },
    {
      "cell_type": "markdown",
      "source": [
        "#model"
      ],
      "metadata": {
        "id": "Gry2pPFy7Tr5"
      }
    },
    {
      "cell_type": "code",
      "source": [
        "from sklearn.metrics import accuracy_score, confusion_matrix"
      ],
      "metadata": {
        "id": "r_WHOPd293PG"
      },
      "execution_count": null,
      "outputs": []
    },
    {
      "cell_type": "markdown",
      "source": [
        "SVM"
      ],
      "metadata": {
        "id": "OrS4PXkq6DUb"
      }
    },
    {
      "cell_type": "code",
      "source": [
        "from sklearn.svm import SVC\n",
        "\n",
        "model = SVC()\n",
        "model.fit(X_train, y_train)\n",
        "y_pred = model.predict(X_test)"
      ],
      "metadata": {
        "id": "gAJ3jL_Q7S3X"
      },
      "execution_count": null,
      "outputs": []
    },
    {
      "cell_type": "code",
      "source": [
        "print(\"accuracy :\", accuracy_score(y_test, y_pred))"
      ],
      "metadata": {
        "colab": {
          "base_uri": "https://localhost:8080/"
        },
        "id": "2uNvAYu090x4",
        "outputId": "861f85ce-7441-4142-fa3a-28352fd534de"
      },
      "execution_count": null,
      "outputs": [
        {
          "output_type": "stream",
          "name": "stdout",
          "text": [
            "accuracy : 0.7291666666666666\n"
          ]
        }
      ]
    },
    {
      "cell_type": "markdown",
      "source": [
        "RandomForest"
      ],
      "metadata": {
        "id": "8G4R6Sr36IPy"
      }
    },
    {
      "cell_type": "code",
      "source": [
        "from sklearn.ensemble import RandomForestClassifier\n",
        "\n",
        "model = RandomForestClassifier()\n",
        "model.fit(X_train, y_train)\n",
        "y_pred = model.predict(X_test)"
      ],
      "metadata": {
        "id": "806r6XML6oZJ"
      },
      "execution_count": null,
      "outputs": []
    },
    {
      "cell_type": "code",
      "source": [
        "print(\"accuracy :\", accuracy_score(y_test, y_pred))"
      ],
      "metadata": {
        "colab": {
          "base_uri": "https://localhost:8080/"
        },
        "id": "RO-6MJox91Pu",
        "outputId": "a25e3f12-6d0d-44b2-c78e-35b1ddc8fdab"
      },
      "execution_count": null,
      "outputs": [
        {
          "output_type": "stream",
          "name": "stdout",
          "text": [
            "accuracy : 0.7708333333333334\n"
          ]
        }
      ]
    },
    {
      "cell_type": "markdown",
      "source": [
        "GradientBoostingClassification"
      ],
      "metadata": {
        "id": "x-52dbnW8Ps4"
      }
    },
    {
      "cell_type": "code",
      "source": [
        "from sklearn.ensemble import GradientBoostingClassifier\n",
        "\n",
        "model = GradientBoostingClassifier(random_state=32)\n",
        "model.fit(X_train, y_train)\n",
        "y_pred = model.predict(X_test)"
      ],
      "metadata": {
        "id": "p8yd9tZR8HK4"
      },
      "execution_count": null,
      "outputs": []
    },
    {
      "cell_type": "code",
      "source": [
        "print(\"accuracy :\", accuracy_score(y_test, y_pred))"
      ],
      "metadata": {
        "colab": {
          "base_uri": "https://localhost:8080/"
        },
        "id": "7YT4xvOW919e",
        "outputId": "eca94494-26a8-4023-dd64-3756fa244277"
      },
      "execution_count": null,
      "outputs": [
        {
          "output_type": "stream",
          "name": "stdout",
          "text": [
            "accuracy : 0.7708333333333334\n"
          ]
        }
      ]
    },
    {
      "cell_type": "markdown",
      "source": [
        "linearRegression"
      ],
      "metadata": {
        "id": "88kGxk5D6EV6"
      }
    },
    {
      "cell_type": "code",
      "source": [
        "from sklearn.linear_model import LinearRegression\n",
        "\n",
        "model = LinearRegression()\n",
        "model.fit(X_train, y_train)\n",
        "y_pred = model.predict(X_test)"
      ],
      "metadata": {
        "id": "k4sstTTWUwz2"
      },
      "execution_count": null,
      "outputs": []
    },
    {
      "cell_type": "code",
      "source": [
        "for i, y in enumerate(y_pred):   #ถ้าค่าที่ออกมาจาก model มีค่ามากกว่า 0.5 (threshold) ให้เปลี่ยนค่าเป็น 1 ถ้าน้อยกว่า 0.5 (threshold) ให้เปลี่ยนเป็น 0 เพื่อที่จะได้นำไปเปรียบเทียบกับตัว y_test ได้\n",
        "  if i > 0.5:\n",
        "    y_pred[i] = 1\n",
        "  else:\n",
        "    y_pred[i] = 0"
      ],
      "metadata": {
        "id": "9mtTmn9MYC2p"
      },
      "execution_count": null,
      "outputs": []
    },
    {
      "cell_type": "code",
      "source": [
        "accuracy_score(y_test, y_pred)"
      ],
      "metadata": {
        "colab": {
          "base_uri": "https://localhost:8080/"
        },
        "id": "0KbbodGu5xgk",
        "outputId": "2ebadfb3-624d-431e-9428-9cd61b8e55bd"
      },
      "execution_count": null,
      "outputs": [
        {
          "output_type": "execute_result",
          "data": {
            "text/plain": [
              "0.6041666666666666"
            ]
          },
          "metadata": {},
          "execution_count": 23
        }
      ]
    }
  ]
}